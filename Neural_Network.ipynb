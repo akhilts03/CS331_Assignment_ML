{
  "cells": [
    {
      "cell_type": "markdown",
      "metadata": {
        "id": "view-in-github",
        "colab_type": "text"
      },
      "source": [
        "<a href=\"https://colab.research.google.com/github/akhilts03/CS331_Assignment_ML/blob/main/Neural_Network.ipynb\" target=\"_parent\"><img src=\"https://colab.research.google.com/assets/colab-badge.svg\" alt=\"Open In Colab\"/></a>"
      ]
    },
    {
      "cell_type": "code",
      "execution_count": 3,
      "metadata": {
        "id": "6JZTELaMnqqm"
      },
      "outputs": [],
      "source": [
        "import numpy as np\n",
        "from sklearn import datasets"
      ]
    },
    {
      "cell_type": "markdown",
      "metadata": {
        "id": "nbyiamJ5o5Ov"
      },
      "source": [
        "# Mean Square Loss"
      ]
    },
    {
      "cell_type": "code",
      "execution_count": 4,
      "metadata": {
        "id": "iZfC9Vf8o3pX"
      },
      "outputs": [],
      "source": [
        "loss_of_question_2=[]\n",
        "class meanSqLossLayer:\n",
        "\n",
        "    # P and Y are of the form n x 1 where n is the number of datapoints\n",
        "    def __init__(self,P,Y):\n",
        "        self.input=(P,Y)\n",
        "\n",
        "    def forward(self):\n",
        "        try:\n",
        "            P, Y = self.input\n",
        "            L = np.mean(np.square(P-Y))\n",
        "            loss_of_question_2.append(L)\n",
        "            # print(L)\n",
        "            return L\n",
        "        except:\n",
        "            ValueError(\"Error in computation in forward pass of mean squared layer\")\n",
        "\n",
        "    def backward(self):\n",
        "        self.forward()\n",
        "        P, Y = self.input\n",
        "        n = P.shape[0]\n",
        "        delL_dely_hat = 2*(P-Y)/n   ## delL_dely_hat is of the form n x 1\n",
        "\n",
        "        return delL_dely_hat\n"
      ]
    },
    {
      "cell_type": "markdown",
      "metadata": {
        "id": "6iCf1sVbodsK"
      },
      "source": [
        "# Cross Entropy Layer"
      ]
    },
    {
      "cell_type": "code",
      "execution_count": 5,
      "metadata": {
        "id": "Q93b0RGtoT2j"
      },
      "outputs": [],
      "source": [
        "loss_of_question_3=[]\n",
        "def one_hot_encode(matrix, num_classes):  # matrix input is of the form n x 1\n",
        "    try:\n",
        "        if num_classes == 1:\n",
        "            return matrix\n",
        "        s = set()\n",
        "        for row in matrix:\n",
        "            for element in row:\n",
        "                s.add(element)\n",
        "        if len(s) != num_classes:\n",
        "            raise ValueError(\"Unique elements in matrix != num_classes\")\n",
        "\n",
        "        one_hot_matrix = np.eye(num_classes)[matrix.flatten().astype(int)]\n",
        "        # print(\"hello of crossentropy_one_hot_ encoding\")\n",
        "        return one_hot_matrix   # output of form n x num_classes or n x k\n",
        "    except Exception as e:\n",
        "          print(e)\n",
        "\n",
        "\n",
        "\n",
        "class CrossEntropyLossLayer:\n",
        "\n",
        "    # in case of sigmoid Y_pred is of form n x 1 and Y_true is of form n x 1\n",
        "    # for softmax Y_pred is of form n x k and Y_true is of the form n x 1\n",
        "    def __init__(self, Y_pred, Y_true):\n",
        "        # print(\"hello of crossentropy_init\")\n",
        "        self.Y_pred = Y_pred\n",
        "        # print(Y_pred.shape)\n",
        "        # print(Y_true)\n",
        "        self.num_classes=self.Y_pred.shape[1]\n",
        "        self.Y_true = one_hot_encode(Y_true,self.num_classes)\n",
        "\n",
        "    def forward(self):\n",
        "\n",
        "        try:\n",
        "\n",
        "            # Y_new = one_hot_encode(self.Y_true,self.num_classes)\n",
        "            loss = -np.sum(self.Y_true * np.log(self.Y_pred))   # loss is always a scalar\n",
        "            loss_of_question_3.append(loss)\n",
        "            # print(\"Loss=\",loss)\n",
        "            return loss\n",
        "\n",
        "        except:\n",
        "            ValueError(\"Error in cross entropy loss computation\")\n",
        "\n",
        "    def backward(self):\n",
        "        self.forward()\n",
        "        # Y_new = one_hot_encode(self.Y_true,self.num_classes)                     # performing one hot encoding on Y and converting it from nX1 to nXk\n",
        "\n",
        "        try:\n",
        "            # print(self.Y_pred)\n",
        "            # reciprocal_matrix = np.reciprocal(self.Y_pred)        # finding 1/Y_cap\n",
        "            dL_dY_hat = self.Y_true/self.Y_pred\n",
        "            # print(\"hello of crossentropy_backward\")\n",
        "            return dL_dY_hat\n",
        "\n",
        "            #for sigmopid and linear regression dL_dY_hat is of the form n x 1\n",
        "            #for softmax dL_dy_hat is of the form n x k\n",
        "        except Exception as e:\n",
        "            print(\"cross entropy back prop dl_dyhat \"+str(e))"
      ]
    },
    {
      "cell_type": "markdown",
      "metadata": {
        "id": "mupkSODXogO3"
      },
      "source": [
        "# Softmax"
      ]
    },
    {
      "cell_type": "code",
      "execution_count": 6,
      "metadata": {
        "id": "vjUefE99oPqO"
      },
      "outputs": [],
      "source": [
        "\n",
        "\n",
        "class SoftMax:\n",
        "\n",
        "    P=[]\n",
        "    num_datapoints=0\n",
        "    num_classes=0\n",
        "\n",
        "    # P is of the shape n x k where n is number of datapoints and k is number of classes\n",
        "    # Y is of the form n x  1\n",
        "    def __init__(self,P,Y):\n",
        "        self.P=P\n",
        "        self.Y=Y\n",
        "        self.num_datapoints=len(list(P))\n",
        "        if(self.num_datapoints!=0):\n",
        "            self.num_classes=len(list(list(P)[1]))\n",
        "\n",
        "    def softmax(self,z):\n",
        "        exp_array=np.exp(np.array(z))\n",
        "        sum_array=np.sum(exp_array)\n",
        "\n",
        "        try:\n",
        "            y_hat=exp_array/sum_array\n",
        "            return y_hat\n",
        "        except:\n",
        "            raise ValueError(\"Error in Y_hat computation of softmax\")\n",
        "\n",
        "    def forward_pass(self):       #forward pass function making use of the value received by the bias addition layer i.e. P\n",
        "        y_hat=[]\n",
        "        # print(\"hello from forward of softmax\")\n",
        "        try:\n",
        "            for i in range(self.num_datapoints):\n",
        "                y_hat_i=self.softmax(self.P[i])\n",
        "                y_hat.append(y_hat_i)\n",
        "\n",
        "            return y_hat        #y_hat is of the form n x k\n",
        "        except Exception as e:\n",
        "            print(\"softmax forward pass\"+str(e))\n",
        "\n",
        "\n",
        "    def backward_pass(self):\n",
        "        try:\n",
        "            #we can make use of the value of back pass of cross entropy layer\n",
        "            y_hat=np.array(self.forward_pass())  #y_hat is of the form n x k\n",
        "            delL_delY_hat=np.array(CrossEntropyLossLayer(y_hat,self.Y).backward())      #delL_delY_hat is n x k\n",
        "            M=(delL_delY_hat @ y_hat.T)             # M is of the form n x n\n",
        "            try:\n",
        "                Md=M.diagonal().reshape((self.num_datapoints,1))    # Md is of the form n x 1\n",
        "            except Exception as e:\n",
        "                print(\"softmax backward pass Md diagonal thing\"+str(e))\n",
        "\n",
        "######################################\n",
        "            try:\n",
        "                delL_delP=(-y_hat)*(delL_delY_hat-Md)  #delL_delP is of the form n x k\n",
        "            except Exception as e:\n",
        "                print(e)\n",
        "            # print(\"hello of softmax_backward\")\n",
        "            # k = y_hat.shape[1]\n",
        "            # Y_new = one_hot_encode(self.Y,k)\n",
        "            # delL_delP=y_hat-Y_new\n",
        "######################################\n",
        "\n",
        "            num_entries=len(list(y_hat))\n",
        "            y_samp=np.zeros((num_entries,1))\n",
        "            try:\n",
        "                for i in range(num_entries):\n",
        "                    y_samp[i]=np.argmax(y_hat[i])\n",
        "            except Exception as e:\n",
        "                print(\"softmax backward y_samp \"+str(e))\n",
        "\n",
        "            y_samp=y_samp.astype('int')\n",
        "            # print(y_samp)\n",
        "            # print(y_samp)\n",
        "\n",
        "            return (delL_delP,y_samp)\n",
        "        except:\n",
        "            ValueError(\"error in backward pass calculation of softmax\")\n",
        "\n",
        "\n",
        "\n",
        "\n"
      ]
    },
    {
      "cell_type": "markdown",
      "metadata": {
        "id": "VqnINiP0omjC"
      },
      "source": [
        "# Sigmoid"
      ]
    },
    {
      "cell_type": "code",
      "execution_count": 7,
      "metadata": {
        "id": "GBFgyvusoMj1"
      },
      "outputs": [],
      "source": [
        "\n",
        "class Sigmoid:\n",
        "\n",
        "    P=[]\n",
        "    num_datapoints=0\n",
        "    num_classes=0\n",
        "\n",
        "    # Y is of the form n x 1\n",
        "    def __init__(self,P,Y):\n",
        "        self.P=P\n",
        "        self.Y=Y\n",
        "        self.num_datapoints=len(list(P))\n",
        "        if(self.num_datapoints!=0):\n",
        "            self.num_classes=len(list(list(P)[1]))\n",
        "\n",
        "    def sigmoid(self,z):\n",
        "        exp_array=np.exp(np.array(-z))\n",
        "\n",
        "        try:\n",
        "            y_hat=1/(1+exp_array)\n",
        "            return y_hat\n",
        "        except:\n",
        "            ValueError(\"Error in Y_hat computation\")\n",
        "\n",
        "    def forward_pass(self):       #forward pass function making use of the value received by the bias addition layer i.e. P\n",
        "        try:\n",
        "            y_hat=[]\n",
        "            for i in range(self.num_datapoints):\n",
        "                y_hat_i=self.sigmoid(self.P[i])\n",
        "                y_hat.append(y_hat_i)\n",
        "            return y_hat        #y_hat of the shape n x 1 for sigmoid\n",
        "        except:\n",
        "            ValueError(\"error in forward pass calculation of sigmoid\")\n",
        "\n",
        "\n",
        "    def backward_pass(self):\n",
        "\n",
        "        try:\n",
        "            #we can make use of the value of back pass of cross entropy layer\n",
        "\n",
        "            y_hat=np.array(self.forward_pass())\n",
        "            delL_delY_hat=np.array(CrossEntropyLossLayer(y_hat,self.Y).backward())\n",
        "\n",
        "\n",
        "            delL_delP=delL_delY_hat*y_hat*(1-y_hat)\n",
        "\n",
        "\n",
        "            num_entries=len(list(y_hat))\n",
        "            y_samp=np.zeros((num_entries,1))\n",
        "            for i in range(num_entries):\n",
        "                if(y_hat[i]>1-y_hat[i]):\n",
        "                    y_samp[0][i]=0\n",
        "                else:\n",
        "                    y_samp[0][i]=1\n",
        "\n",
        "            return (delL_delP,y_samp)        #then this is of the shape n x 1\n",
        "\n",
        "        except:\n",
        "            ValueError(\"error in backward pass calculation of sigmoid\")\n",
        "\n",
        "\n",
        "\n",
        "\n"
      ]
    },
    {
      "cell_type": "markdown",
      "metadata": {
        "id": "A9cdRW5NooYl"
      },
      "source": [
        "# Bias Addition Layer"
      ]
    },
    {
      "cell_type": "code",
      "execution_count": 8,
      "metadata": {
        "id": "j2eGdOvFoHtH"
      },
      "outputs": [],
      "source": [
        "\n",
        "class biasAddLayer:\n",
        "\n",
        "    #N is of the shape n x 1 for sigmoid and linear regression\n",
        "    #N is of the shape n x k for softmax where n is number of data points and k is number of classes\n",
        "    def __init__(self, N,Y,algo_type,B):\n",
        "        self.Y=Y\n",
        "        self.algo_type=algo_type\n",
        "        self.N = N\n",
        "        self.B=B\n",
        "\n",
        "\n",
        "    def forward(self):\n",
        "        # print(\"hello of bias_additio_forward\")\n",
        "        try:\n",
        "            # print(self.N)\n",
        "            # print(self.B)\n",
        "            # print(self.N + self.B.T)\n",
        "            if(self.algo_type=='linear_regression'):\n",
        "              return self.N+self.B\n",
        "            return self.N + self.B.T\n",
        "        except Exception as e:\n",
        "            print(\"bias addition forward pass\"+str(e))\n",
        "\n",
        "\n",
        "        #for sigmoid and linear regression P of form n x 1\n",
        "        # for softmax P is of shape n x k\n",
        "\n",
        "    def backward(self):     #grad_out = del_L/del_P\n",
        "        try:\n",
        "            if(self.algo_type=='sigmoid'):\n",
        "                # print(\"hello of bias_additio_backward_sigmoid\")\n",
        "                P=self.forward()\n",
        "                delL_delP,y_hat=Sigmoid(P,self.Y).backward_pass()         #delL_delP received is of shape n x 1\n",
        "                delL_delb = np.sum(delL_delP)\n",
        "                delL_delN = delL_delP\n",
        "                return (delL_delb,delL_delN,y_hat)   #del_L/del_b is scalar 1 delL_delN is of shape n x 1\n",
        "\n",
        "\n",
        "            elif(self.algo_type=='softmax'):\n",
        "                P=self.forward()\n",
        "                delL_delP,y_hat=SoftMax(P,self.Y).backward_pass()  #delL_delP received is of shape n x k\n",
        "                # print(\"hello of bias_additio_backward_softmax\")\n",
        "                delL_delb = np.array(np.sum(delL_delP,axis=0)).reshape((len(list(P)[1]),1))\n",
        "                # print(\"deL_delb shape=\",str(delL_delb.shape))\n",
        "\n",
        "                delL_delN = delL_delP\n",
        "                return (delL_delb,delL_delN,y_hat)   #del_L/del_b is of the shape k x 1 delL_delN is of shape n x k\n",
        "\n",
        "\n",
        "\n",
        "            else:\n",
        "                # print(\"hello of bias_additio_backward_linear_regression\")\n",
        "                P=self.forward()                    # P is of the shape n x 1\n",
        "                delL_delP=meanSqLossLayer(P,self.Y).backward()    #delL_dely_hat is of the form n x 1\n",
        "                delL_delb= np.sum(delL_delP)\n",
        "                delL_delN = delL_delP\n",
        "                return (delL_delb,delL_delN,P)   #del_L/del_b is scalar 1 delL_delN is of shape n x 1\n",
        "\n",
        "        except:\n",
        "            ValueError(\"Error in computation of grad out in bias addition layer from \"+str(self.algo_type)+\" layer.\")\n",
        "\n",
        "\n",
        "\n",
        "\n",
        "\n"
      ]
    },
    {
      "cell_type": "markdown",
      "metadata": {
        "id": "Yc3ZHCA-otwr"
      },
      "source": [
        "# Matrix Multiplication"
      ]
    },
    {
      "cell_type": "code",
      "execution_count": 9,
      "metadata": {
        "id": "6jE2cXqIA4Ew"
      },
      "outputs": [],
      "source": [
        "\n",
        "class MatrixMultiplicationLayer:\n",
        "\n",
        "    #X is dataset of the size n x d. n--> Number of datapoints, d number of features\n",
        "\n",
        "\n",
        "\n",
        "    def __init__(self, X,labels,algo_type,iteration,W=[],B=[]):\n",
        "        self.algo_type=algo_type\n",
        "        self.X = X\n",
        "        self.Y=labels\n",
        "        self.y_hat=np.zeros(labels.shape)\n",
        "\n",
        "        if(len(list(X))==0):\n",
        "            ValueError(\"No entries found in the dataset.\")\n",
        "\n",
        "\n",
        "\n",
        "        if(iteration==0 or B==[]):\n",
        "            if(self.algo_type==\"linear_regression\" or self.algo_type==\"sigmoid\"):\n",
        "                self.B = 1                                            #sigmoid or linear regression B is scalar\n",
        "            else:\n",
        "                unique_elements, counts = np.unique(labels, return_counts=True)\n",
        "                num_classes=len(unique_elements)\n",
        "                self.B=np.ones((num_classes,1))          #softmax B is of shape k x 1\n",
        "\n",
        "        else:\n",
        "            self.B=B\n",
        "\n",
        "\n",
        "\n",
        "        if(iteration==0 or W==[]):\n",
        "            if(algo_type=='linear_regression' or algo_type=='sigmoid'):\n",
        "                self.W=np.ones((1,X.shape[1]))                         # W is of the shape (1 x d)\n",
        "            elif(algo_type=='softmax'):\n",
        "                unique_elements, counts = np.unique(labels, return_counts=True)\n",
        "                num_classes=len(unique_elements)\n",
        "                self.W=np.ones((num_classes,X.shape[1]))               # W is of the shape (k x d) where k is the number of classes\n",
        "\n",
        "        else:\n",
        "            self.W=W\n",
        "\n",
        "        # print(\"hi\")\n",
        "        # print(self.W,self.B)\n",
        "\n",
        "    def set_param(self,W,B):\n",
        "        self.W=W\n",
        "        self.B=B\n",
        "\n",
        "    def forward(self):\n",
        "        try:\n",
        "            # Linear Regression and Sigmoid N is of shape n x 1\n",
        "            # Softmax N is of shape n x k\n",
        "\n",
        "            N = self.X @ self.W.T\n",
        "            return N\n",
        "        except:\n",
        "            ValueError(\"Error in computation of forward pass of Matrix Multiplication Layer\")\n",
        "\n",
        "    def backward(self):\n",
        "        try:\n",
        "            # print(self.W)\n",
        "            N=self.forward()\n",
        "\n",
        "\n",
        "            ###########################################\n",
        "\n",
        "            #sigmoid and linear regression del_L/del_b is scalar delL_delN is of shape n x 1\n",
        "            #softmax del_L/del_b is of the shape k x 1 delL_delN is of shape n x k\n",
        "            dL_db,dL_dN,y_hat=biasAddLayer(N,self.Y,self.algo_type,self.B).backward()\n",
        "            # print(\"hello of matrix mult\")\n",
        "\n",
        "            self.y_hat=y_hat\n",
        "            dL_dW = self.X.T @ dL_dN\n",
        "            # k = y_hat.shape[1]\n",
        "            # Y_new = one_hot_encode(self.Y,k)\n",
        "            # Y_hat_new=one_hot_encode(y_hat,k)\n",
        "            # # delL_delP=y_hat-Y_new\n",
        "            # dL_dW = self.X.T @ (Y_hat_new-Y_new)\n",
        "\n",
        "            #sigmoid dL_dW is of the form d x 1\n",
        "            #softmax dL_dW is of the form d x k\n",
        "            return (dL_dW,dL_db)\n",
        "        except:\n",
        "            ValueError(\"Error in computation of backward pass of Matrix Multiplication Layer\")\n",
        "\n",
        "\n",
        "    def predictions(self):\n",
        "        return self.y_hat\n",
        "\n",
        "    def parameters(self):\n",
        "        return (self.W,self.B)"
      ]
    },
    {
      "cell_type": "markdown",
      "metadata": {
        "id": "wbUP0B-epEsb"
      },
      "source": [
        "# Question 2\n",
        "\n",
        "## Using California Housing Prices"
      ]
    },
    {
      "cell_type": "code",
      "execution_count": 10,
      "metadata": {
        "id": "zCls2Ck8pI4L"
      },
      "outputs": [],
      "source": [
        "dataset,labels=datasets.fetch_california_housing(data_home=None, download_if_missing=True, return_X_y=True, as_frame=False)"
      ]
    },
    {
      "cell_type": "code",
      "execution_count": 11,
      "metadata": {
        "colab": {
          "base_uri": "https://localhost:8080/"
        },
        "id": "1lhl7twvpayZ",
        "outputId": "5172f9a3-0895-4812-9fb0-f7ef97c4a0f6"
      },
      "outputs": [
        {
          "output_type": "stream",
          "name": "stdout",
          "text": [
            "Dataset Shape=(20640, 8)\n",
            "Labels Shape=(20640,)\n"
          ]
        }
      ],
      "source": [
        "print(\"Dataset Shape=\"+str(dataset.shape))\n",
        "print(\"Labels Shape=\"+str(labels.shape))"
      ]
    },
    {
      "cell_type": "code",
      "execution_count": 12,
      "metadata": {
        "id": "3E361CE1VP-g"
      },
      "outputs": [],
      "source": [
        "for i in range(len(list(dataset))):\n",
        "  # print(dataset[i])\n",
        "  dataset[i]=dataset[i]/np.max(dataset[i])"
      ]
    },
    {
      "cell_type": "code",
      "execution_count": 13,
      "metadata": {
        "colab": {
          "base_uri": "https://localhost:8080/"
        },
        "id": "OHVmJe2eqKjh",
        "outputId": "6c2a883c-c332-45af-e5fb-d0169b02ebd1"
      },
      "outputs": [
        {
          "output_type": "stream",
          "name": "stdout",
          "text": [
            "Train data shape=(16512, 8)\n",
            "Test data shape=(4128, 8)\n"
          ]
        }
      ],
      "source": [
        "#seperating the test data and the training data\n",
        "np.random.seed(2020)\n",
        "indices = np.random.permutation(len(list(dataset)))\n",
        "\n",
        "dataset = dataset[indices]\n",
        "labels = labels[indices]\n",
        "\n",
        "\n",
        "split_point = int(0.8 * len(list(dataset)))  #including 80% in the training data and remaining 20% in the test data\n",
        "\n",
        "train_data=dataset[:split_point]\n",
        "train_labels=labels[:split_point]\n",
        "\n",
        "test_data=dataset[split_point:]\n",
        "test_labels=labels[split_point:]\n",
        "\n",
        "print(\"Train data shape=\"+str(train_data.shape))\n",
        "print(\"Test data shape=\"+str(test_data.shape))"
      ]
    },
    {
      "cell_type": "code",
      "execution_count": 14,
      "metadata": {
        "id": "0NV_sIzBqvR9"
      },
      "outputs": [],
      "source": [
        "#the gradient descent algorithm for learning\n",
        "def gradient_descent(w,b,delL_delw,delL_delb,learning_rate):\n",
        "    # print(\"old w and b shape\",str(w.shape),str(b.shape))\n",
        "    W=w-learning_rate*(delL_delw.T)\n",
        "    B=b-learning_rate*(delL_delb)\n",
        "    # print(\"new w and b shape\",str(W.shape),str(B.shape))\n",
        "    return (W,B)\n",
        "\n",
        "def accuracy(Y_hat,Y):\n",
        "    try:\n",
        "        return (np.count_nonzero(np.array(Y_hat) == np.array(Y))*1.0/len(list(Y)))\n",
        "    except Exception as e:\n",
        "        print(\"accuracy function \"+str(e))"
      ]
    },
    {
      "cell_type": "code",
      "execution_count": 15,
      "metadata": {
        "id": "-NQ3t6WUqy76"
      },
      "outputs": [],
      "source": [
        "learning_rate=0.01\n",
        "epochs=10"
      ]
    },
    {
      "cell_type": "code",
      "execution_count": 16,
      "metadata": {
        "id": "ql3HbDyTrDwF"
      },
      "outputs": [],
      "source": [
        "batch_size=1"
      ]
    },
    {
      "cell_type": "code",
      "execution_count": 17,
      "metadata": {
        "id": "DYB0TTHItILO"
      },
      "outputs": [],
      "source": [
        "import math"
      ]
    },
    {
      "cell_type": "code",
      "execution_count": 18,
      "metadata": {
        "colab": {
          "base_uri": "https://localhost:8080/"
        },
        "id": "I6kH2rV8CjSG",
        "outputId": "392fb89b-852d-4cd3-ad11-05b59c486083"
      },
      "outputs": [
        {
          "output_type": "stream",
          "name": "stdout",
          "text": [
            "\n"
          ]
        }
      ],
      "source": [
        "print(\"\")\n",
        "# W=np.ones((len(list(train_data)[1]),1))\n",
        "# B=1\n",
        "loss=[]"
      ]
    },
    {
      "cell_type": "code",
      "execution_count": 19,
      "metadata": {
        "id": "5flMbGrbpoJw",
        "colab": {
          "base_uri": "https://localhost:8080/",
          "height": 472
        },
        "outputId": "1ac2e82d-cec6-413a-c923-891ecd8ea1be"
      },
      "outputs": [
        {
          "output_type": "display_data",
          "data": {
            "text/plain": [
              "<Figure size 640x480 with 1 Axes>"
            ],
            "image/png": "[encoded data removed]"
          },
          "metadata": {}
        }
      ],
      "source": [
        "\n",
        "for i in range(epochs):\n",
        "    num_iterations=math.ceil(len(list(train_data))/batch_size)\n",
        "\n",
        "    # prediction=[]\n",
        "    for j in range(num_iterations):\n",
        "      start=j*batch_size\n",
        "      end=(j+1)*batch_size\n",
        "\n",
        "      if(end>=len(list(train_data))-1):\n",
        "          sample_data=train_data[start:]\n",
        "          sample_labels=train_labels[start:]\n",
        "\n",
        "      else:\n",
        "          sample_data=train_data[start:end]\n",
        "          sample_labels=train_labels[start:end]\n",
        "\n",
        "\n",
        "#       P=sample_data @ W + B\n",
        "#       l+=np.square(P-sample_labels)[0][0]/len(list(train_data))\n",
        "#       dw=np.dot(sample_data.T,2*(P-sample_labels))\n",
        "#       db=np.sum(2*(P-sample_labels))\n",
        "#       # print(dw)\n",
        "#       # print(l)\n",
        "#       W=W-(0.01*dw)\n",
        "#       B=B-(0.01*db)\n",
        "\n",
        "#     loss.append(l)\n",
        "\n",
        "\n",
        "# loss=loss[1:]\n",
        "      if(i+j==0):\n",
        "          # print(\"hello\")\n",
        "          model=MatrixMultiplicationLayer(sample_data,sample_labels,'linear_regression',0)\n",
        "      # else:\n",
        "      #     model=MatrixMultiplicationLayer(sample_data,sample_labels,'linear_regression',i+j,w,b)\n",
        "      # print(\"start=\",start)\n",
        "      dL_dw,dL_db=model.backward()\n",
        "      # print(\"dL_dw=\",dL_dw,' dL_db=',dL_db)\n",
        "      y_hat=model.predictions()\n",
        "      # prediction.extend(y_hat)\n",
        "      w,b=model.parameters()\n",
        "      w,b=gradient_descent(w,b,dL_dw,dL_db,learning_rate)\n",
        "      model.set_param(w,b)\n",
        "\n",
        "      # print(prediction)\n",
        "\n",
        "\n",
        "#####################################################GRAPHS##########################################################\n",
        "# loss_of_question_2=loss_of_question_2[::len(train_data)]\n",
        "import matplotlib.pyplot as plt\n",
        "indices = np.arange(len(loss_of_question_2))\n",
        "\n",
        "# Plot the data\n",
        "plt.plot(indices, loss_of_question_2, marker='o', linestyle='-', color='b', label='Data')\n",
        "\n",
        "# Set grid lines at intervals of 0.05\n",
        "plt.yticks(np.arange(0, max(loss_of_question_2)+0.1, 0.5))\n",
        "\n",
        "plt.grid(True)\n",
        "\n",
        "# Adding labels and title\n",
        "plt.xlabel('Iterations')\n",
        "plt.ylabel('Loss')\n",
        "plt.title('Graph of Loss against Iterations')\n",
        "\n",
        "loss_of_question_2=[]"
      ]
    },
    {
      "cell_type": "code",
      "execution_count": 20,
      "metadata": {
        "id": "4gERPU21mDtw"
      },
      "outputs": [],
      "source": [
        "# import matplotlib.pyplot as plt\n",
        "\n",
        "\n",
        "# # Plotting the list against its index\n",
        "# plt.plot(loss[1:])\n",
        "\n",
        "# # Adding labels and title\n",
        "# plt.xlabel('Index')\n",
        "# plt.ylabel('Values')\n",
        "# plt.title('Graph of List against Index')\n",
        "\n",
        "# # Display the plot\n",
        "# plt.show()"
      ]
    },
    {
      "cell_type": "code",
      "execution_count": 21,
      "metadata": {
        "id": "sRK4OITJ43RR"
      },
      "outputs": [],
      "source": [
        "# print(\"Test Data stats\")\n",
        "# l=0\n",
        "# for j in range(len(list(test_data))):\n",
        "#   P=test_data[j] @ W + B\n",
        "#   l+=np.sum(np.square(P-test_labels[j]))/len(list(test_data))\n",
        "\n",
        "# print(\"Loss on test set=\",l)"
      ]
    },
    {
      "cell_type": "code",
      "execution_count": 22,
      "metadata": {
        "colab": {
          "base_uri": "https://localhost:8080/",
          "height": 404
        },
        "id": "SIgnW-V7xw8d",
        "outputId": "3ad56ce9-d414-45c2-eed6-3507441b95a9"
      },
      "outputs": [
        {
          "output_type": "stream",
          "name": "stdout",
          "text": [
            "\n"
          ]
        },
        {
          "output_type": "stream",
          "name": "stderr",
          "text": [
            "<ipython-input-9-4e2ab0e05d3e>:18: DeprecationWarning: The truth value of an empty array is ambiguous. Returning False, but in future this will result in an error. Use `array.size > 0` to check that an array is not empty.\n",
            "  if(iteration==0 or B==[]):\n"
          ]
        },
        {
          "output_type": "error",
          "ename": "ValueError",
          "evalue": "operands could not be broadcast together with shapes (1,8) (0,) ",
          "traceback": [
            "\u001b[0;31m---------------------------------------------------------------------------\u001b[0m",
            "\u001b[0;31mValueError\u001b[0m                                Traceback (most recent call last)",
            "\u001b[0;32m<ipython-input-22-7b47feabc23d>\u001b[0m in \u001b[0;36m<cell line: 3>\u001b[0;34m()\u001b[0m\n\u001b[1;32m      1\u001b[0m \u001b[0mprint\u001b[0m\u001b[0;34m(\u001b[0m\u001b[0;34m\"\"\u001b[0m\u001b[0;34m)\u001b[0m\u001b[0;34m\u001b[0m\u001b[0;34m\u001b[0m\u001b[0m\n\u001b[1;32m      2\u001b[0m \u001b[0;34m\u001b[0m\u001b[0m\n\u001b[0;32m----> 3\u001b[0;31m \u001b[0mnew_model\u001b[0m\u001b[0;34m=\u001b[0m\u001b[0mMatrixMultiplicationLayer\u001b[0m\u001b[0;34m(\u001b[0m\u001b[0mtest_data\u001b[0m\u001b[0;34m,\u001b[0m\u001b[0mtest_labels\u001b[0m\u001b[0;34m,\u001b[0m\u001b[0;34m'linear_regression'\u001b[0m\u001b[0;34m,\u001b[0m\u001b[0;36m99999\u001b[0m\u001b[0;34m,\u001b[0m\u001b[0mw\u001b[0m\u001b[0;34m,\u001b[0m\u001b[0mb\u001b[0m\u001b[0;34m)\u001b[0m\u001b[0;34m\u001b[0m\u001b[0;34m\u001b[0m\u001b[0m\n\u001b[0m\u001b[1;32m      4\u001b[0m \u001b[0;31m# print(w,b)\u001b[0m\u001b[0;34m\u001b[0m\u001b[0;34m\u001b[0m\u001b[0m\n\u001b[1;32m      5\u001b[0m \u001b[0mdL_dw\u001b[0m\u001b[0;34m,\u001b[0m\u001b[0mdL_db\u001b[0m\u001b[0;34m=\u001b[0m\u001b[0mnew_model\u001b[0m\u001b[0;34m.\u001b[0m\u001b[0mbackward\u001b[0m\u001b[0;34m(\u001b[0m\u001b[0;34m)\u001b[0m\u001b[0;34m\u001b[0m\u001b[0;34m\u001b[0m\u001b[0m\n",
            "\u001b[0;32m<ipython-input-9-4e2ab0e05d3e>\u001b[0m in \u001b[0;36m__init__\u001b[0;34m(self, X, labels, algo_type, iteration, W, B)\u001b[0m\n\u001b[1;32m     29\u001b[0m \u001b[0;34m\u001b[0m\u001b[0m\n\u001b[1;32m     30\u001b[0m \u001b[0;34m\u001b[0m\u001b[0m\n\u001b[0;32m---> 31\u001b[0;31m         \u001b[0;32mif\u001b[0m\u001b[0;34m(\u001b[0m\u001b[0miteration\u001b[0m\u001b[0;34m==\u001b[0m\u001b[0;36m0\u001b[0m \u001b[0;32mor\u001b[0m \u001b[0mW\u001b[0m\u001b[0;34m==\u001b[0m\u001b[0;34m[\u001b[0m\u001b[0;34m]\u001b[0m\u001b[0;34m)\u001b[0m\u001b[0;34m:\u001b[0m\u001b[0;34m\u001b[0m\u001b[0;34m\u001b[0m\u001b[0m\n\u001b[0m\u001b[1;32m     32\u001b[0m             \u001b[0;32mif\u001b[0m\u001b[0;34m(\u001b[0m\u001b[0malgo_type\u001b[0m\u001b[0;34m==\u001b[0m\u001b[0;34m'linear_regression'\u001b[0m \u001b[0;32mor\u001b[0m \u001b[0malgo_type\u001b[0m\u001b[0;34m==\u001b[0m\u001b[0;34m'sigmoid'\u001b[0m\u001b[0;34m)\u001b[0m\u001b[0;34m:\u001b[0m\u001b[0;34m\u001b[0m\u001b[0;34m\u001b[0m\u001b[0m\n\u001b[1;32m     33\u001b[0m                 \u001b[0mself\u001b[0m\u001b[0;34m.\u001b[0m\u001b[0mW\u001b[0m\u001b[0;34m=\u001b[0m\u001b[0mnp\u001b[0m\u001b[0;34m.\u001b[0m\u001b[0mones\u001b[0m\u001b[0;34m(\u001b[0m\u001b[0;34m(\u001b[0m\u001b[0;36m1\u001b[0m\u001b[0;34m,\u001b[0m\u001b[0mX\u001b[0m\u001b[0;34m.\u001b[0m\u001b[0mshape\u001b[0m\u001b[0;34m[\u001b[0m\u001b[0;36m1\u001b[0m\u001b[0;34m]\u001b[0m\u001b[0;34m)\u001b[0m\u001b[0;34m)\u001b[0m                         \u001b[0;31m# W is of the shape (1 x d)\u001b[0m\u001b[0;34m\u001b[0m\u001b[0;34m\u001b[0m\u001b[0m\n",
            "\u001b[0;31mValueError\u001b[0m: operands could not be broadcast together with shapes (1,8) (0,) "
          ]
        }
      ],
      "source": [
        "print(\"\")\n",
        "\n",
        "new_model=MatrixMultiplicationLayer(test_data,test_labels,'linear_regression',99999,w,b)\n",
        "# print(w,b)\n",
        "dL_dw,dL_db=new_model.backward()\n",
        "print(\"Test Data stats\")\n",
        "print(\"Loss=>\",loss_of_question_2[0])\n",
        "# prediction=new_model.predictions()\n",
        "# print(\"Test Data Accuracy=\"+str(accuracy(prediction,test_labels)))"
      ]
    },
    {
      "cell_type": "markdown",
      "metadata": {
        "id": "txKjJpwYIX7F"
      },
      "source": [
        "# Question 3\n"
      ]
    },
    {
      "cell_type": "code",
      "execution_count": 23,
      "metadata": {
        "id": "GJQ1N3AfH9rP",
        "colab": {
          "base_uri": "https://localhost:8080/",
          "height": 1000
        },
        "outputId": "4bed5e33-fcb2-4a46-ee07-13a699200bd6"
      },
      "outputs": [
        {
          "output_type": "stream",
          "name": "stdout",
          "text": [
            "Dataset Shape=(150, 4)\n",
            "Labels Shape=(150, 1)\n",
            "\n",
            "Train data shape=(105, 4)\n",
            "Test data shape=(45, 4)\n",
            "\n",
            "Accuracy=0.37142857142857144\n",
            "Accuracy=0.7904761904761904\n",
            "Accuracy=0.7904761904761904\n",
            "Accuracy=0.7904761904761904\n",
            "Accuracy=0.7904761904761904\n",
            "Accuracy=0.8\n",
            "Accuracy=0.8095238095238095\n",
            "Accuracy=0.8095238095238095\n",
            "Accuracy=0.8095238095238095\n",
            "Accuracy=0.8095238095238095\n",
            "Accuracy=0.8095238095238095\n",
            "Accuracy=0.819047619047619\n",
            "Accuracy=0.819047619047619\n",
            "Accuracy=0.819047619047619\n",
            "Accuracy=0.819047619047619\n",
            "Accuracy=0.819047619047619\n",
            "Accuracy=0.8095238095238095\n",
            "Accuracy=0.8095238095238095\n",
            "Accuracy=0.8095238095238095\n",
            "Accuracy=0.8095238095238095\n",
            "Accuracy=0.8095238095238095\n",
            "Accuracy=0.8095238095238095\n",
            "Accuracy=0.8095238095238095\n",
            "Accuracy=0.8095238095238095\n",
            "Accuracy=0.8095238095238095\n",
            "Accuracy=0.8095238095238095\n",
            "Accuracy=0.8095238095238095\n",
            "Accuracy=0.8095238095238095\n",
            "Accuracy=0.819047619047619\n",
            "Accuracy=0.819047619047619\n",
            "Accuracy=0.819047619047619\n",
            "Accuracy=0.819047619047619\n",
            "Accuracy=0.819047619047619\n",
            "Accuracy=0.819047619047619\n",
            "Accuracy=0.819047619047619\n",
            "Accuracy=0.819047619047619\n",
            "Accuracy=0.819047619047619\n",
            "Accuracy=0.819047619047619\n",
            "Accuracy=0.8285714285714286\n",
            "Accuracy=0.8285714285714286\n",
            "Accuracy=0.8285714285714286\n",
            "Accuracy=0.8285714285714286\n",
            "Accuracy=0.8285714285714286\n",
            "Accuracy=0.8285714285714286\n",
            "Accuracy=0.8285714285714286\n",
            "Accuracy=0.8285714285714286\n",
            "Accuracy=0.8380952380952381\n",
            "Accuracy=0.8380952380952381\n",
            "Accuracy=0.8380952380952381\n",
            "Accuracy=0.8380952380952381\n",
            "Accuracy=0.8476190476190476\n",
            "Accuracy=0.8476190476190476\n",
            "Accuracy=0.8476190476190476\n",
            "Accuracy=0.8476190476190476\n",
            "Accuracy=0.8476190476190476\n",
            "Accuracy=0.8666666666666667\n",
            "Accuracy=0.8666666666666667\n",
            "Accuracy=0.8666666666666667\n",
            "Accuracy=0.8666666666666667\n",
            "Accuracy=0.8666666666666667\n",
            "Accuracy=0.8666666666666667\n",
            "Accuracy=0.8666666666666667\n",
            "Accuracy=0.8666666666666667\n",
            "Accuracy=0.8666666666666667\n",
            "Accuracy=0.8666666666666667\n",
            "Accuracy=0.8666666666666667\n",
            "Accuracy=0.8666666666666667\n",
            "Accuracy=0.8666666666666667\n",
            "Accuracy=0.8666666666666667\n",
            "Accuracy=0.8761904761904762\n",
            "Accuracy=0.8761904761904762\n",
            "Accuracy=0.8761904761904762\n",
            "Accuracy=0.8761904761904762\n",
            "Accuracy=0.8761904761904762\n",
            "Accuracy=0.8761904761904762\n",
            "Accuracy=0.8761904761904762\n",
            "Accuracy=0.8761904761904762\n",
            "Accuracy=0.8857142857142857\n",
            "Accuracy=0.8857142857142857\n",
            "Accuracy=0.8857142857142857\n",
            "Accuracy=0.8857142857142857\n",
            "Accuracy=0.8857142857142857\n",
            "Accuracy=0.8857142857142857\n",
            "Accuracy=0.8857142857142857\n",
            "Accuracy=0.8857142857142857\n",
            "Accuracy=0.8857142857142857\n",
            "Accuracy=0.8857142857142857\n",
            "Accuracy=0.8857142857142857\n",
            "Accuracy=0.8857142857142857\n",
            "Accuracy=0.8857142857142857\n",
            "Accuracy=0.8857142857142857\n",
            "Accuracy=0.8857142857142857\n",
            "Accuracy=0.8857142857142857\n",
            "Accuracy=0.8857142857142857\n",
            "Accuracy=0.8857142857142857\n",
            "Accuracy=0.8857142857142857\n",
            "Accuracy=0.8857142857142857\n",
            "Accuracy=0.8857142857142857\n",
            "Accuracy=0.8857142857142857\n",
            "Accuracy=0.8857142857142857\n"
          ]
        },
        {
          "output_type": "display_data",
          "data": {
            "text/plain": [
              "<Figure size 640x480 with 1 Axes>"
            ],
            "image/png": "[encoded data removed]"
          },
          "metadata": {}
        }
      ],
      "source": [
        "from sklearn import datasets\n",
        "\n",
        "from sklearn.preprocessing import StandardScaler\n",
        "\n",
        "\n",
        "scalar=StandardScaler()\n",
        "\n",
        "#initializing the dataset\n",
        "iris = datasets.load_iris()\n",
        "\n",
        "dataset=scalar.fit_transform(np.array(iris.data))\n",
        "labels=np.array(iris.target).reshape((iris.target.shape[0],1))\n",
        "\n",
        "print(\"Dataset Shape=\"+str(dataset.shape))\n",
        "print(\"Labels Shape=\"+str(labels.shape))\n",
        "print(\"\")\n",
        "\n",
        "\n",
        "#seperating the test data and the training data\n",
        "np.random.seed(2020)\n",
        "indices = np.random.permutation(len(list(dataset)))\n",
        "\n",
        "dataset = dataset[indices]\n",
        "labels = labels[indices]\n",
        "\n",
        "\n",
        "split_point = int(0.7 * len(list(dataset)))  #including 70% in the training data and remaining 30% in the test data\n",
        "\n",
        "train_data=dataset[:split_point]\n",
        "train_labels=labels[:split_point]\n",
        "\n",
        "test_data=dataset[split_point:]\n",
        "test_labels=labels[split_point:]\n",
        "\n",
        "print(\"Train data shape=\"+str(train_data.shape))\n",
        "print(\"Test data shape=\"+str(test_data.shape))\n",
        "\n",
        "\n",
        "\n",
        "#the gradient descent algorithm for learning\n",
        "def gradient_descent(w,b,delL_delw,delL_delb,learning_rate):\n",
        "    # print(\"old w and b shape\",str(w.shape),str(b.shape))\n",
        "    W=w-learning_rate*(delL_delw.T)\n",
        "    B=b-learning_rate*(delL_delb)\n",
        "    # print(\"new w and b shape\",str(W.shape),str(B.shape))\n",
        "    return (W,B)\n",
        "\n",
        "def accuracy(Y_hat,Y):\n",
        "    try:\n",
        "        return (np.count_nonzero(np.array(Y_hat) == np.array(Y))*1.0/len(list(Y)))\n",
        "    except Exception as e:\n",
        "        print(\"accuracy function \"+str(e))\n",
        "\n",
        "learning_rate=0.001\n",
        "iterations=100\n",
        "\n",
        "model=MatrixMultiplicationLayer(train_data,train_labels,'softmax',0)\n",
        "\n",
        "print(\"\")\n",
        "\n",
        "##################################################################################################33\n",
        "for i in range(iterations):\n",
        "\n",
        "    ##################################################################################333\n",
        "    dL_dw,dL_db=model.backward()\n",
        "    prediction=model.predictions()\n",
        "    w,b=model.parameters()\n",
        "    # print(w)\n",
        "    print(\"Accuracy=\"+str(accuracy(prediction,train_labels)))\n",
        "    w,b=gradient_descent(w,b,dL_dw,dL_db,learning_rate)\n",
        "    # print(w,b)\n",
        "    # print(w)\n",
        "    model.set_param(w,b)\n",
        "    # print(\"True labels=\")\n",
        "    # print(train_labels)\n",
        "    # model=MatrixMultiplicationLayer(train_data,train_labels,'softmax',w,b)\n",
        "\n",
        "    #####################################################################################################\n",
        "###############################################################################################################3\n",
        "\n",
        "plt.plot(loss_of_question_3)\n",
        "\n",
        "# Adding labels and title\n",
        "plt.xlabel('Iterations')\n",
        "plt.ylabel('Loss')\n",
        "plt.title('Graph of Loss against Iterations')\n",
        "\n",
        "loss_of_question_3=[]\n",
        "\n"
      ]
    },
    {
      "cell_type": "code",
      "execution_count": 24,
      "metadata": {
        "colab": {
          "base_uri": "https://localhost:8080/",
          "height": 422
        },
        "id": "hufO9H1gJLGD",
        "outputId": "4da63abd-f3aa-46e9-8290-2bf2b0c857f3"
      },
      "outputs": [
        {
          "output_type": "stream",
          "name": "stdout",
          "text": [
            "\n",
            "Test Data stats\n"
          ]
        },
        {
          "output_type": "stream",
          "name": "stderr",
          "text": [
            "<ipython-input-9-4e2ab0e05d3e>:18: DeprecationWarning: The truth value of an empty array is ambiguous. Returning False, but in future this will result in an error. Use `array.size > 0` to check that an array is not empty.\n",
            "  if(iteration==0 or B==[]):\n"
          ]
        },
        {
          "output_type": "error",
          "ename": "ValueError",
          "evalue": "operands could not be broadcast together with shapes (3,4) (0,) ",
          "traceback": [
            "\u001b[0;31m---------------------------------------------------------------------------\u001b[0m",
            "\u001b[0;31mValueError\u001b[0m                                Traceback (most recent call last)",
            "\u001b[0;32m<ipython-input-24-08c09168dbce>\u001b[0m in \u001b[0;36m<cell line: 3>\u001b[0;34m()\u001b[0m\n\u001b[1;32m      1\u001b[0m \u001b[0mprint\u001b[0m\u001b[0;34m(\u001b[0m\u001b[0;34m\"\"\u001b[0m\u001b[0;34m)\u001b[0m\u001b[0;34m\u001b[0m\u001b[0;34m\u001b[0m\u001b[0m\n\u001b[1;32m      2\u001b[0m \u001b[0mprint\u001b[0m\u001b[0;34m(\u001b[0m\u001b[0;34m\"Test Data stats\"\u001b[0m\u001b[0;34m)\u001b[0m\u001b[0;34m\u001b[0m\u001b[0;34m\u001b[0m\u001b[0m\n\u001b[0;32m----> 3\u001b[0;31m \u001b[0mnew_model\u001b[0m\u001b[0;34m=\u001b[0m\u001b[0mMatrixMultiplicationLayer\u001b[0m\u001b[0;34m(\u001b[0m\u001b[0mtest_data\u001b[0m\u001b[0;34m,\u001b[0m\u001b[0mtest_labels\u001b[0m\u001b[0;34m,\u001b[0m\u001b[0;34m'softmax'\u001b[0m\u001b[0;34m,\u001b[0m\u001b[0;36m9999\u001b[0m\u001b[0;34m,\u001b[0m\u001b[0mw\u001b[0m\u001b[0;34m,\u001b[0m\u001b[0mb\u001b[0m\u001b[0;34m)\u001b[0m\u001b[0;34m\u001b[0m\u001b[0;34m\u001b[0m\u001b[0m\n\u001b[0m\u001b[1;32m      4\u001b[0m \u001b[0;31m# print(w,b)\u001b[0m\u001b[0;34m\u001b[0m\u001b[0;34m\u001b[0m\u001b[0m\n\u001b[1;32m      5\u001b[0m \u001b[0mdL_dw\u001b[0m\u001b[0;34m,\u001b[0m\u001b[0mdL_db\u001b[0m\u001b[0;34m=\u001b[0m\u001b[0mnew_model\u001b[0m\u001b[0;34m.\u001b[0m\u001b[0mbackward\u001b[0m\u001b[0;34m(\u001b[0m\u001b[0;34m)\u001b[0m\u001b[0;34m\u001b[0m\u001b[0;34m\u001b[0m\u001b[0m\n",
            "\u001b[0;32m<ipython-input-9-4e2ab0e05d3e>\u001b[0m in \u001b[0;36m__init__\u001b[0;34m(self, X, labels, algo_type, iteration, W, B)\u001b[0m\n\u001b[1;32m     29\u001b[0m \u001b[0;34m\u001b[0m\u001b[0m\n\u001b[1;32m     30\u001b[0m \u001b[0;34m\u001b[0m\u001b[0m\n\u001b[0;32m---> 31\u001b[0;31m         \u001b[0;32mif\u001b[0m\u001b[0;34m(\u001b[0m\u001b[0miteration\u001b[0m\u001b[0;34m==\u001b[0m\u001b[0;36m0\u001b[0m \u001b[0;32mor\u001b[0m \u001b[0mW\u001b[0m\u001b[0;34m==\u001b[0m\u001b[0;34m[\u001b[0m\u001b[0;34m]\u001b[0m\u001b[0;34m)\u001b[0m\u001b[0;34m:\u001b[0m\u001b[0;34m\u001b[0m\u001b[0;34m\u001b[0m\u001b[0m\n\u001b[0m\u001b[1;32m     32\u001b[0m             \u001b[0;32mif\u001b[0m\u001b[0;34m(\u001b[0m\u001b[0malgo_type\u001b[0m\u001b[0;34m==\u001b[0m\u001b[0;34m'linear_regression'\u001b[0m \u001b[0;32mor\u001b[0m \u001b[0malgo_type\u001b[0m\u001b[0;34m==\u001b[0m\u001b[0;34m'sigmoid'\u001b[0m\u001b[0;34m)\u001b[0m\u001b[0;34m:\u001b[0m\u001b[0;34m\u001b[0m\u001b[0;34m\u001b[0m\u001b[0m\n\u001b[1;32m     33\u001b[0m                 \u001b[0mself\u001b[0m\u001b[0;34m.\u001b[0m\u001b[0mW\u001b[0m\u001b[0;34m=\u001b[0m\u001b[0mnp\u001b[0m\u001b[0;34m.\u001b[0m\u001b[0mones\u001b[0m\u001b[0;34m(\u001b[0m\u001b[0;34m(\u001b[0m\u001b[0;36m1\u001b[0m\u001b[0;34m,\u001b[0m\u001b[0mX\u001b[0m\u001b[0;34m.\u001b[0m\u001b[0mshape\u001b[0m\u001b[0;34m[\u001b[0m\u001b[0;36m1\u001b[0m\u001b[0;34m]\u001b[0m\u001b[0;34m)\u001b[0m\u001b[0;34m)\u001b[0m                         \u001b[0;31m# W is of the shape (1 x d)\u001b[0m\u001b[0;34m\u001b[0m\u001b[0;34m\u001b[0m\u001b[0m\n",
            "\u001b[0;31mValueError\u001b[0m: operands could not be broadcast together with shapes (3,4) (0,) "
          ]
        }
      ],
      "source": [
        "print(\"\")\n",
        "print(\"Test Data stats\")\n",
        "new_model=MatrixMultiplicationLayer(test_data,test_labels,'softmax',9999,w,b)\n",
        "# print(w,b)\n",
        "dL_dw,dL_db=new_model.backward()\n",
        "prediction=new_model.predictions()\n",
        "print(\"Test Data Accuracy=\"+str(accuracy(prediction,test_labels)))"
      ]
    },
    {
      "cell_type": "code",
      "source": [],
      "metadata": {
        "id": "3mGWFUciyGT-"
      },
      "execution_count": 24,
      "outputs": []
    }
  ],
  "metadata": {
    "colab": {
      "provenance": [],
      "include_colab_link": true
    },
    "kernelspec": {
      "display_name": "Python 3",
      "name": "python3"
    },
    "language_info": {
      "name": "python"
    }
  },
  "nbformat": 4,
  "nbformat_minor": 0
}